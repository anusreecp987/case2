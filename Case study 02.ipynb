{
 "cells": [
  {
   "cell_type": "markdown",
   "id": "1966af7b",
   "metadata": {},
   "source": [
    "1.Write a Python function to sum all the numbers in a list. (Create a list and get list elements from user)"
   ]
  },
  {
   "cell_type": "code",
   "execution_count": 1,
   "id": "2c7a85f5",
   "metadata": {},
   "outputs": [
    {
     "name": "stdout",
     "output_type": "stream",
     "text": [
      "enter the elements of the list5 2 3 6 4\n",
      "[5, 2, 3, 6, 4]\n",
      "20\n"
     ]
    }
   ],
   "source": [
    "def addition():\n",
    "    pq=[]\n",
    "    k=map(int,input(\"enter the elements of the list\").split(' '))\n",
    "    for i in k:\n",
    "        pq.append(i)\n",
    "    print(pq)\n",
    "    t=0\n",
    "    for j in pq:\n",
    "        t=t+j\n",
    "    print(t)\n",
    "addition()"
   ]
  },
  {
   "cell_type": "markdown",
   "id": "dfcd1697",
   "metadata": {},
   "source": [
    "2.Write a Python function that checks whether a passed string is palindrome or not."
   ]
  },
  {
   "cell_type": "code",
   "execution_count": 4,
   "id": "71497075",
   "metadata": {},
   "outputs": [
    {
     "name": "stdout",
     "output_type": "stream",
     "text": [
      "enter the word malayalam\n",
      "its a palindrome\n"
     ]
    }
   ],
   "source": [
    "s=input(\"enter the word \")\n",
    "s=s.lower()\n",
    "rev_s=s[::-1]\n",
    "if s==rev_s:\n",
    "    print(\"its a palindrome\")\n",
    "else:\n",
    "    print(\"its not a palindrome\")"
   ]
  },
  {
   "cell_type": "markdown",
   "id": "a5a5c3d2",
   "metadata": {},
   "source": [
    "3. Write a Python recursive function to find the Fibonacci series. Get the limit\n",
    "from the user\n"
   ]
  },
  {
   "cell_type": "code",
   "execution_count": 5,
   "id": "1b4fd10f",
   "metadata": {},
   "outputs": [
    {
     "name": "stdout",
     "output_type": "stream",
     "text": [
      "Enter the no 9\n"
     ]
    },
    {
     "data": {
      "text/plain": [
       "34"
      ]
     },
     "execution_count": 5,
     "metadata": {},
     "output_type": "execute_result"
    }
   ],
   "source": [
    "n=int(input(\"Enter the no \"))\n",
    "def fibanocci(n):\n",
    "    if n<0:\n",
    "        print(\"invalid\")\n",
    "    elif n==0:\n",
    "        return 0\n",
    "    elif n==0 or n==1:\n",
    "        return 1\n",
    "    else:\n",
    "        return fibanocci(n-1)+fibanocci(n-2)\n",
    "fibanocci(n)"
   ]
  },
  {
   "cell_type": "markdown",
   "id": "00da6e32",
   "metadata": {},
   "source": [
    "4.Write a Python recursive function to print the multiplication table of given number"
   ]
  },
  {
   "cell_type": "code",
   "execution_count": 6,
   "id": "7a0b7a27",
   "metadata": {},
   "outputs": [
    {
     "name": "stdout",
     "output_type": "stream",
     "text": [
      "Multiplication table of 5\n",
      "5\n",
      "10\n",
      "15\n",
      "20\n",
      "25\n",
      "30\n",
      "35\n",
      "40\n",
      "45\n",
      "50\n"
     ]
    }
   ],
   "source": [
    "def multiplication():\n",
    "    n=int(input(\"Multiplication table of \"))\n",
    "    for i in range (1,11):\n",
    "        print(i*n)\n",
    "multiplication()\n",
    "    "
   ]
  },
  {
   "cell_type": "markdown",
   "id": "22ca6fcb",
   "metadata": {},
   "source": [
    "5.Define a function which counts vowels and consonant in a word."
   ]
  },
  {
   "cell_type": "code",
   "execution_count": 11,
   "id": "7022d000",
   "metadata": {},
   "outputs": [
    {
     "name": "stdout",
     "output_type": "stream",
     "text": [
      "enter the string aeroplane\n",
      "no.of vowels 5\n",
      "no.of consonants 4\n"
     ]
    }
   ],
   "source": [
    "def Check_Vow(string, vowels):\n",
    "    final = [each for each in string if each in vowels]\n",
    "    print(\"no.of vowels\",len(final))\n",
    "    p=len(string)-len(final)\n",
    "    print(\"no.of consonants\",p)\n",
    "     \n",
    "string = input(\"enter the string \")\n",
    "vowels = \"AaEeIiOoUu\"\n",
    "Check_Vow(string, vowels)"
   ]
  },
  {
   "cell_type": "markdown",
   "id": "6707eab3",
   "metadata": {},
   "source": [
    "6.Define a function that accepts lowercase words and returns uppercase words"
   ]
  },
  {
   "cell_type": "code",
   "execution_count": 20,
   "id": "4d7a8b1b",
   "metadata": {},
   "outputs": [
    {
     "name": "stdout",
     "output_type": "stream",
     "text": [
      "Enter the stringaeroplane\n",
      "AEROPLANE\n"
     ]
    }
   ],
   "source": [
    "def low():\n",
    "    p=input(\"Enter the string\")\n",
    "    p=p.upper()\n",
    "    print(p)\n",
    "low()\n"
   ]
  },
  {
   "cell_type": "markdown",
   "id": "1a885877",
   "metadata": {},
   "source": [
    "Write a Python program to remove ‘None’ values from a given list using the lambda function. Given input = [12, 0, None, 23, None, -55, 234, 89, None, 0, 6, -12] Expected output = [12, 0, 23, -55, 234, 89, 0, 6, -12]"
   ]
  },
  {
   "cell_type": "code",
   "execution_count": 21,
   "id": "4fde893d",
   "metadata": {},
   "outputs": [
    {
     "name": "stdout",
     "output_type": "stream",
     "text": [
      "Original list:\n",
      "[12, 0, None, 23, None, -55, 234, 89, None, 0, 6, -12]\n",
      "\n",
      "Remove None value from the said list:\n",
      "[12, 0, 23, -55, 234, 89, 0, 6, -12]\n"
     ]
    }
   ],
   "source": [
    "def remove_none(nums):\n",
    "    result = filter(lambda v: v is not None, nums)\n",
    "    return list(result)\n",
    "\n",
    "nums = [12, 0, None, 23, None, -55, 234, 89, None, 0, 6, -12]\n",
    "print(\"Original list:\")\n",
    "print(nums)\n",
    "print(\"\\nRemove None value from the said list:\")\n",
    "print(remove_none(nums))\n"
   ]
  },
  {
   "cell_type": "markdown",
   "id": "9da42654",
   "metadata": {},
   "source": [
    "8.Write a Rectangle class in Python language, allowing you to build a rectangle with length and width attributes. a. Create a Perimeter() method to calculate the perimeter of the rectangle and a Area() method to calculate the area of the rectangle. b. Create a method display() that display the length, width, perimeter and area of an object created using an instantiation on rectangle class. c. Create a Parallelepiped child class inheriting from the Rectangle class and with a height attribute and another Volume() method to calculate the volume of the Parallelepiped."
   ]
  },
  {
   "cell_type": "code",
   "execution_count": 22,
   "id": "eed4bef7",
   "metadata": {},
   "outputs": [
    {
     "name": "stdout",
     "output_type": "stream",
     "text": [
      "perimeter is  26\n",
      "area is  40\n",
      "enter the height 7\n",
      "volume is  84\n"
     ]
    }
   ],
   "source": [
    "class Rectangle:\n",
    "    def __init__(self,length,width):\n",
    "        self.l=length\n",
    "        self.w=width\n",
    "    def Perimeter(self):\n",
    "        permtr=2*(self.l+self.w)\n",
    "        print('perimeter is ',permtr)\n",
    "    def Area(self):\n",
    "        area=self.l*self.w\n",
    "        print('area is ',area)\n",
    "        \n",
    "class Parallelpiped(Rectangle):\n",
    "    \n",
    "\n",
    "    def volume(self):\n",
    "        h=int(input(\"enter the height \"))\n",
    "        print('volume is ',self.l*self.w*h)\n",
    "p=Rectangle(5,8)\n",
    "p.Perimeter()\n",
    "p.Area()\n",
    "q=Parallelpiped(3,4)\n",
    "q.volume()\n"
   ]
  },
  {
   "cell_type": "markdown",
   "id": "6631f193",
   "metadata": {},
   "source": [
    "9.Create a Python class called BankAccount which represents a bank account, having as attributes: accountNumber (numeric type), name (name of the account owner as string type), balance. a. Create a constructor with parameters: accountNumber, name, balance. b. Create a Deposit() method which manages the deposit actions. c. Create a Withdrawal() method which manages withdrawals actions. d. Create an bankFees() method to apply the bank fees with a percentage of 5% of the balance account. e. Create a display() method to display account details. f. Give the complete code for the BankAccount class."
   ]
  },
  {
   "cell_type": "code",
   "execution_count": 23,
   "id": "cb23d953",
   "metadata": {},
   "outputs": [
    {
     "name": "stdout",
     "output_type": "stream",
     "text": [
      "enter the deposite amount 20000\n",
      "enter the amount to withdraw 10000\n",
      "account_no  SBI\n",
      "name  SBI1245\n",
      "bank fee  1000.0\n"
     ]
    }
   ],
   "source": [
    "class BankAccount:\n",
    "    def __init__(self,account_no,name,balance):\n",
    "        self.ac_no=account_no\n",
    "        self.n=name\n",
    "        self.bal=balance\n",
    "\n",
    "    def Deposite(self):\n",
    "        d=int(input(\"enter the deposite amount \"))\n",
    "    def Withdrawal(self):\n",
    "        w=int(input(\"enter the amount to withdraw \"))\n",
    "    def bankFees(self):      \n",
    "        return(5*(self.bal/100))\n",
    "    def display(self):\n",
    "        print(\"account_no \",self.ac_no)\n",
    "        print(\"name \",self.n)\n",
    "        print(\"bank fee \",5*(self.bal/100))\n",
    "b=BankAccount('SBI','SBI1245',20000)\n",
    "b.Deposite()\n",
    "b.Withdrawal()\n",
    "b.bankFees()\n",
    "b.display()"
   ]
  },
  {
   "cell_type": "markdown",
   "id": "7b84d884",
   "metadata": {},
   "source": [
    "10. Create a base class rectangle with attributes length and breadth, methods\n",
    "area and perimeter.\n",
    "a. Save the rectangle class as a python file rectangle.py file.\n",
    "b. Open another python script and import the rectangle.py file.\n",
    "c. In the newly created script derive a child class called Parallelepiped\n",
    "class inheriting from the Rectangle class and with a height attribute\n",
    "and another Volume() method to calculate the volume of the\n",
    "Parallelepiped.\n",
    "d. Now create objects for parent class and child class in newly created\n",
    "script and access methods of parent class and child class. "
   ]
  },
  {
   "cell_type": "code",
   "execution_count": null,
   "id": "307d7a25",
   "metadata": {},
   "outputs": [],
   "source": []
  }
 ],
 "metadata": {
  "kernelspec": {
   "display_name": "Python 3 (ipykernel)",
   "language": "python",
   "name": "python3"
  },
  "language_info": {
   "codemirror_mode": {
    "name": "ipython",
    "version": 3
   },
   "file_extension": ".py",
   "mimetype": "text/x-python",
   "name": "python",
   "nbconvert_exporter": "python",
   "pygments_lexer": "ipython3",
   "version": "3.9.13"
  }
 },
 "nbformat": 4,
 "nbformat_minor": 5
}
